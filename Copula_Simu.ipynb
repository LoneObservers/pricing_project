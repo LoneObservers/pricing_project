{
 "cells": [
  {
   "cell_type": "code",
   "execution_count": 1,
   "id": "4377ed84",
   "metadata": {},
   "outputs": [],
   "source": [
    "%matplotlib inline\n",
    "import seaborn as sns\n",
    "from scipy import stats\n",
    "import pandas as pd\n",
    "import numpy as np\n",
    "import matplotlib.pyplot as plt\n",
    "import warnings\n",
    "warnings.filterwarnings('ignore')"
   ]
  },
  {
   "cell_type": "code",
   "execution_count": 2,
   "id": "82b253b7",
   "metadata": {},
   "outputs": [],
   "source": [
    "Sims = 1000000\n",
    "mvnorm = stats.multivariate_normal(mean=[0, 0], cov=[[1., 0.5], [0.5, 1.]])\n",
    "x = mvnorm.rvs(Sims)\n",
    "#h = sns.jointplot(x[:,0], x[:,1], kind='kde')\n",
    "#h.set_axis_labels('X1', 'X2', fontsize=16)\n",
    "\n",
    "norm = stats.norm()\n",
    "x_unif = norm.cdf(x)\n",
    "#h = sns.jointplot(x_unif[:, 0], x_unif[:, 1], kind='hex')\n",
    "#h.set_axis_labels('Y1', 'Y2', fontsize=16)"
   ]
  },
  {
   "cell_type": "code",
   "execution_count": 3,
   "id": "46aa0dcd",
   "metadata": {},
   "outputs": [],
   "source": [
    "def trans(x):\n",
    "    if x < 0.02/100:\n",
    "        y = 109.37\n",
    "    elif x < (0.02 + 0.33)/100:\n",
    "        y = 109.19\n",
    "    elif x < (0.02 + 0.33 + 5.95)/100:\n",
    "        y = 108.66\n",
    "    elif x < (0.02 + 0.33 + 5.95 + 86.93)/100:\n",
    "        y = 107.55\n",
    "    elif x < (0.02 + 0.33 + 5.95 + 86.93 + 5.30)/100:\n",
    "        y = 102.02\n",
    "    elif x < (0.02 + 0.33 + 5.95 + 86.93 + 5.30 + 1.17)/100:\n",
    "        y = 98.10\n",
    "    elif x < (0.02 + 0.33 + 5.95 + 86.93 + 5.30 + 1.17 + 0.12)/100:\n",
    "        y = 83.64\n",
    "    else:\n",
    "        y = 51.13\n",
    "    return y"
   ]
  },
  {
   "cell_type": "code",
   "execution_count": 4,
   "id": "2a20bc03",
   "metadata": {},
   "outputs": [],
   "source": [
    "trans_f = np.frompyfunc(trans,1,1)\n",
    "tvalue = trans_f(x_unif)\n",
    "value_df = pd.DataFrame(tvalue,index=range(1,Sims+1),columns=['Bond1','Bond2'])\n",
    "loss_df = (value_df - 107.55).sum(axis=1)"
   ]
  },
  {
   "cell_type": "code",
   "execution_count": 5,
   "id": "8f8ede13",
   "metadata": {},
   "outputs": [
    {
     "data": {
      "text/plain": [
       "-0.9242822000028031"
      ]
     },
     "execution_count": 5,
     "metadata": {},
     "output_type": "execute_result"
    }
   ],
   "source": [
    "loss_df.mean()"
   ]
  },
  {
   "cell_type": "code",
   "execution_count": 6,
   "id": "feecf404",
   "metadata": {},
   "outputs": [
    {
     "data": {
      "text/plain": [
       "-14.980000000000004"
      ]
     },
     "execution_count": 6,
     "metadata": {},
     "output_type": "execute_result"
    }
   ],
   "source": [
    "loss_df.quantile(0.01)"
   ]
  }
 ],
 "metadata": {
  "kernelspec": {
   "display_name": "Python 3",
   "language": "python",
   "name": "python3"
  },
  "language_info": {
   "codemirror_mode": {
    "name": "ipython",
    "version": 3
   },
   "file_extension": ".py",
   "mimetype": "text/x-python",
   "name": "python",
   "nbconvert_exporter": "python",
   "pygments_lexer": "ipython3",
   "version": "3.8.11"
  }
 },
 "nbformat": 4,
 "nbformat_minor": 5
}
